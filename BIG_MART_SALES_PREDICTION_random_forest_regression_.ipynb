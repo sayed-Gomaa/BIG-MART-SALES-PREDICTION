{
  "nbformat": 4,
  "nbformat_minor": 0,
  "metadata": {
    "colab": {
      "name": "BIG MART SALES PREDICTION_random_forest_regression .ipynb",
      "provenance": [],
      "collapsed_sections": [],
      "toc_visible": true,
      "include_colab_link": true
    },
    "kernelspec": {
      "name": "python3",
      "display_name": "Python 3"
    }
  },
  "cells": [
    {
      "cell_type": "markdown",
      "metadata": {
        "id": "view-in-github",
        "colab_type": "text"
      },
      "source": [
        "<a href=\"https://colab.research.google.com/github/sayed-Gomaa/BIG-MART-SALES-PREDICTION/blob/main/BIG_MART_SALES_PREDICTION_random_forest_regression_.ipynb\" target=\"_parent\"><img src=\"https://colab.research.google.com/assets/colab-badge.svg\" alt=\"Open In Colab\"/></a>"
      ]
    },
    {
      "cell_type": "markdown",
      "metadata": {
        "id": "LeamvpPVXuS_"
      },
      "source": [
        "# Random Forest Regression"
      ]
    },
    {
      "cell_type": "markdown",
      "metadata": {
        "id": "O2wvZ7SKXzVC"
      },
      "source": [
        "## Importing the libraries"
      ]
    },
    {
      "cell_type": "code",
      "metadata": {
        "id": "PVmESEFZX4Ig"
      },
      "source": [
        "import numpy as np\n",
        "import matplotlib.pyplot as plt\n",
        "import pandas as pd"
      ],
      "execution_count": 1,
      "outputs": []
    },
    {
      "cell_type": "markdown",
      "metadata": {
        "id": "zgbK_F8-X7em"
      },
      "source": [
        "## Importing the dataset"
      ]
    },
    {
      "cell_type": "code",
      "metadata": {
        "id": "adBE4tjQX_Bh"
      },
      "source": [
        "X_TR = pd.read_csv('Train.csv')\n",
        "X_TS = pd.read_csv('Test.csv')\n",
        "test_data= pd.read_csv('Submission.csv')\n",
        "test_data=test_data.iloc[:,-1]\n",
        "X_TS[\"Item_Outlet_Sales\"]=test_data\n",
        "\n"
      ],
      "execution_count": 12,
      "outputs": []
    },
    {
      "cell_type": "markdown",
      "metadata": {
        "id": "zldeQTxA4Cex"
      },
      "source": [
        "# takeCare of Missing Data"
      ]
    },
    {
      "cell_type": "code",
      "metadata": {
        "id": "6j3pQazp1Nyp"
      },
      "source": [
        "X_TR=X_TR.dropna()\n",
        "X_TS=X_TS.dropna()"
      ],
      "execution_count": 13,
      "outputs": []
    },
    {
      "cell_type": "code",
      "metadata": {
        "colab": {
          "base_uri": "https://localhost:8080/"
        },
        "id": "DmnfWidG31-a",
        "outputId": "0a54acf9-6534-4ac1-a5cd-f09b13e5a71f"
      },
      "source": [
        "print(X_TR)\n",
        "print(X_TS)"
      ],
      "execution_count": 14,
      "outputs": [
        {
          "output_type": "stream",
          "text": [
            "     Item_Identifier  Item_Weight  ...        Outlet_Type  Item_Outlet_Sales\n",
            "0              FDA15        9.300  ...  Supermarket Type1          3735.1380\n",
            "1              DRC01        5.920  ...  Supermarket Type2           443.4228\n",
            "2              FDN15       17.500  ...  Supermarket Type1          2097.2700\n",
            "4              NCD19        8.930  ...  Supermarket Type1           994.7052\n",
            "5              FDP36       10.395  ...  Supermarket Type2           556.6088\n",
            "...              ...          ...  ...                ...                ...\n",
            "8517           FDF53       20.750  ...  Supermarket Type1          3608.6360\n",
            "8518           FDF22        6.865  ...  Supermarket Type1          2778.3834\n",
            "8520           NCJ29       10.600  ...  Supermarket Type1          1193.1136\n",
            "8521           FDN46        7.210  ...  Supermarket Type2          1845.5976\n",
            "8522           DRG01       14.800  ...  Supermarket Type1           765.6700\n",
            "\n",
            "[4650 rows x 12 columns]\n",
            "     Item_Identifier  Item_Weight  ...        Outlet_Type  Item_Outlet_Sales\n",
            "0              FDW58       20.750  ...  Supermarket Type1        1636.244023\n",
            "5              FDH56        9.800  ...  Supermarket Type1        1853.228827\n",
            "6              FDL48       19.350  ...  Supermarket Type2         733.598282\n",
            "13             FDU11        4.785  ...  Supermarket Type1        2041.953121\n",
            "14             DRL59       16.750  ...  Supermarket Type1         867.471557\n",
            "...              ...          ...  ...                ...                ...\n",
            "5673           FDF46        7.070  ...  Supermarket Type2        1623.910521\n",
            "5674           DRL35       15.700  ...  Supermarket Type1         755.436127\n",
            "5675           FDW46       13.000  ...  Supermarket Type1        1081.343324\n",
            "5676           FDB58       10.500  ...  Supermarket Type1        2125.984810\n",
            "5677           FDD47        7.600  ...  Supermarket Type2        2602.671833\n",
            "\n",
            "[3099 rows x 12 columns]\n"
          ],
          "name": "stdout"
        }
      ]
    },
    {
      "cell_type": "markdown",
      "metadata": {
        "id": "51tyex5q4SyN"
      },
      "source": [
        "# oneHot encoding for catogorical data"
      ]
    },
    {
      "cell_type": "code",
      "metadata": {
        "id": "QUagGs9h4R31"
      },
      "source": [
        "cateigoral_data=['Item_Fat_Content', 'Item_Type', 'Outlet_Identifier', 'Outlet_Size','Outlet_Location_Type'\n",
        ",'Outlet_Type']\n",
        "\n",
        "X_TR=pd.get_dummies(X_TR,columns=cateigoral_data)\n",
        "X_TS=pd.get_dummies(X_TS,columns=cateigoral_data)\n",
        "\n",
        "X_TR=X_TR.drop('Item_Identifier',axis=1)\n",
        "X_TS=X_TS.drop('Item_Identifier',axis=1)\n"
      ],
      "execution_count": 15,
      "outputs": []
    },
    {
      "cell_type": "code",
      "metadata": {
        "colab": {
          "base_uri": "https://localhost:8080/"
        },
        "id": "-tDc-2LI5Dln",
        "outputId": "e5ed3823-d8da-45b2-b068-8d878e4f54a8"
      },
      "source": [
        "print(X_TR)\n",
        "print(X_TS)"
      ],
      "execution_count": 16,
      "outputs": [
        {
          "output_type": "stream",
          "text": [
            "      Item_Weight  ...  Outlet_Type_Supermarket Type2\n",
            "0           9.300  ...                              0\n",
            "1           5.920  ...                              1\n",
            "2          17.500  ...                              0\n",
            "4           8.930  ...                              0\n",
            "5          10.395  ...                              1\n",
            "...           ...  ...                            ...\n",
            "8517       20.750  ...                              0\n",
            "8518        6.865  ...                              0\n",
            "8520       10.600  ...                              0\n",
            "8521        7.210  ...                              1\n",
            "8522       14.800  ...                              0\n",
            "\n",
            "[4650 rows x 39 columns]\n",
            "      Item_Weight  ...  Outlet_Type_Supermarket Type2\n",
            "0          20.750  ...                              0\n",
            "5           9.800  ...                              0\n",
            "6          19.350  ...                              1\n",
            "13          4.785  ...                              0\n",
            "14         16.750  ...                              0\n",
            "...           ...  ...                            ...\n",
            "5673        7.070  ...                              1\n",
            "5674       15.700  ...                              0\n",
            "5675       13.000  ...                              0\n",
            "5676       10.500  ...                              0\n",
            "5677        7.600  ...                              1\n",
            "\n",
            "[3099 rows x 39 columns]\n"
          ],
          "name": "stdout"
        }
      ]
    },
    {
      "cell_type": "markdown",
      "metadata": {
        "id": "ptNjcy7bOBlD"
      },
      "source": [
        "## Splitting the dataset into the Training set and Test set"
      ]
    },
    {
      "cell_type": "code",
      "metadata": {
        "id": "C7NdofoCOFQF"
      },
      "source": [
        "from sklearn.model_selection import train_test_split\n",
        "x_train, x_test=X_TR , X_TS\n",
        "y_train, y_test =X_TR.loc[:,\"Item_Outlet_Sales\"],X_TS.loc[:,\"Item_Outlet_Sales\"]\n",
        "x_train=x_train.drop('Item_Outlet_Sales',axis=1) \n",
        "x_test=x_test.drop('Item_Outlet_Sales',axis=1) "
      ],
      "execution_count": 18,
      "outputs": []
    },
    {
      "cell_type": "markdown",
      "metadata": {
        "id": "v4S2fyIBYDcu"
      },
      "source": [
        "## Training the Random Forest Regression model on the whole dataset"
      ]
    },
    {
      "cell_type": "code",
      "metadata": {
        "id": "o8dOCoJ1YKMc",
        "colab": {
          "base_uri": "https://localhost:8080/"
        },
        "outputId": "6ebc9889-4b66-41e1-e98e-32c41e9803af"
      },
      "source": [
        "from sklearn.ensemble import RandomForestRegressor\n",
        "regressor = RandomForestRegressor(n_estimators = 500, random_state = 0)\n",
        "regressor.fit(x_train, y_train)"
      ],
      "execution_count": 24,
      "outputs": [
        {
          "output_type": "execute_result",
          "data": {
            "text/plain": [
              "RandomForestRegressor(bootstrap=True, ccp_alpha=0.0, criterion='mse',\n",
              "                      max_depth=None, max_features='auto', max_leaf_nodes=None,\n",
              "                      max_samples=None, min_impurity_decrease=0.0,\n",
              "                      min_impurity_split=None, min_samples_leaf=1,\n",
              "                      min_samples_split=2, min_weight_fraction_leaf=0.0,\n",
              "                      n_estimators=500, n_jobs=None, oob_score=False,\n",
              "                      random_state=0, verbose=0, warm_start=False)"
            ]
          },
          "metadata": {
            "tags": []
          },
          "execution_count": 24
        }
      ]
    },
    {
      "cell_type": "markdown",
      "metadata": {
        "id": "DM_jh0frOPKE"
      },
      "source": [
        "## Predicting the Test set results"
      ]
    },
    {
      "cell_type": "code",
      "metadata": {
        "id": "JGa9ZfM4OTNw",
        "colab": {
          "base_uri": "https://localhost:8080/"
        },
        "outputId": "b30ae8ef-ae40-4c68-c08d-1d347538f472"
      },
      "source": [
        "y_pred = regressor.predict(x_test)\n",
        "print(y_pred) "
      ],
      "execution_count": 25,
      "outputs": [
        {
          "output_type": "stream",
          "text": [
            "[1675.9610812 1841.7705816  620.1354412 ... 1196.7848212 2293.7822016\n",
            " 2475.1967224]\n"
          ],
          "name": "stdout"
        }
      ]
    },
    {
      "cell_type": "markdown",
      "metadata": {
        "id": "Cd8VZM5POWXN"
      },
      "source": [
        "## Evaluating the Model Performance"
      ]
    },
    {
      "cell_type": "code",
      "metadata": {
        "id": "a7y1rXlfOZJo",
        "colab": {
          "base_uri": "https://localhost:8080/"
        },
        "outputId": "2839c3d6-dd29-45c3-9fee-9dd46753c254"
      },
      "source": [
        "from sklearn.metrics import r2_score\n",
        "r2_score(y_test, y_pred)"
      ],
      "execution_count": 26,
      "outputs": [
        {
          "output_type": "execute_result",
          "data": {
            "text/plain": [
              "0.8682534376016136"
            ]
          },
          "metadata": {
            "tags": []
          },
          "execution_count": 26
        }
      ]
    }
  ]
}