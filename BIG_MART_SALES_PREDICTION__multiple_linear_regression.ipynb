{
  "nbformat": 4,
  "nbformat_minor": 0,
  "metadata": {
    "colab": {
      "name": "BIG MART SALES PREDICTION_ multiple_linear_regression.ipynb",
      "provenance": [],
      "collapsed_sections": [],
      "toc_visible": true,
      "include_colab_link": true
    },
    "kernelspec": {
      "name": "python3",
      "display_name": "Python 3"
    }
  },
  "cells": [
    {
      "cell_type": "markdown",
      "metadata": {
        "id": "view-in-github",
        "colab_type": "text"
      },
      "source": [
        "<a href=\"https://colab.research.google.com/github/sayed-Gomaa/BIG-MART-SALES-PREDICTION/blob/main/BIG_MART_SALES_PREDICTION__multiple_linear_regression.ipynb\" target=\"_parent\"><img src=\"https://colab.research.google.com/assets/colab-badge.svg\" alt=\"Open In Colab\"/></a>"
      ]
    },
    {
      "cell_type": "markdown",
      "metadata": {
        "id": "CazISR8X_HUG"
      },
      "source": [
        "# Multiple Linear Regression"
      ]
    },
    {
      "cell_type": "markdown",
      "metadata": {
        "id": "pOyqYHTk_Q57"
      },
      "source": [
        "## Importing the libraries"
      ]
    },
    {
      "cell_type": "code",
      "metadata": {
        "id": "T_YHJjnD_Tja"
      },
      "source": [
        "import numpy as np\n",
        "import matplotlib.pyplot as plt\n",
        "import pandas as pd"
      ],
      "execution_count": 1,
      "outputs": []
    },
    {
      "cell_type": "markdown",
      "metadata": {
        "id": "vgC61-ah_WIz"
      },
      "source": [
        "## Importing the dataset"
      ]
    },
    {
      "cell_type": "code",
      "metadata": {
        "id": "KWxRgRiKHk0V"
      },
      "source": [
        "X_TR = pd.read_csv('Train.csv')\n",
        "X_TE = pd.read_csv('Test.csv')\n",
        "y_column=pd.read_csv('Submission.csv')"
      ],
      "execution_count": 2,
      "outputs": []
    },
    {
      "cell_type": "code",
      "metadata": {
        "id": "UrxyEKGn_ez7",
        "colab": {
          "base_uri": "https://localhost:8080/"
        },
        "outputId": "722fc005-48c8-43b2-e963-e08a0df09ac8"
      },
      "source": [
        "y_column=y_column.iloc[:,-1]\n",
        "X_TE[\"Item_Outlet_Sales\"]=y_column\n",
        "X_TE=X_TE.dropna()\n",
        "X_TR=X_TR.dropna()\n",
        "print(X_TE)"
      ],
      "execution_count": 3,
      "outputs": [
        {
          "output_type": "stream",
          "text": [
            "     Item_Identifier  Item_Weight  ...        Outlet_Type  Item_Outlet_Sales\n",
            "0              FDW58       20.750  ...  Supermarket Type1        1636.244023\n",
            "5              FDH56        9.800  ...  Supermarket Type1        1853.228827\n",
            "6              FDL48       19.350  ...  Supermarket Type2         733.598282\n",
            "13             FDU11        4.785  ...  Supermarket Type1        2041.953121\n",
            "14             DRL59       16.750  ...  Supermarket Type1         867.471557\n",
            "...              ...          ...  ...                ...                ...\n",
            "5673           FDF46        7.070  ...  Supermarket Type2        1623.910521\n",
            "5674           DRL35       15.700  ...  Supermarket Type1         755.436127\n",
            "5675           FDW46       13.000  ...  Supermarket Type1        1081.343324\n",
            "5676           FDB58       10.500  ...  Supermarket Type1        2125.984810\n",
            "5677           FDD47        7.600  ...  Supermarket Type2        2602.671833\n",
            "\n",
            "[3099 rows x 12 columns]\n"
          ],
          "name": "stdout"
        }
      ]
    },
    {
      "cell_type": "markdown",
      "metadata": {
        "id": "Udq-4o6n_VIF"
      },
      "source": [
        "# takeCare of missing data"
      ]
    },
    {
      "cell_type": "code",
      "metadata": {
        "id": "Qh_DryrqJvO4"
      },
      "source": [
        "X_TR=X_TR.drop('Item_Identifier',axis=1)\n",
        "X_TE=X_TE.drop('Item_Identifier',axis=1)"
      ],
      "execution_count": 4,
      "outputs": []
    },
    {
      "cell_type": "markdown",
      "metadata": {
        "id": "PiQC4tRppWLo"
      },
      "source": [
        "# oneHot encoding for catogorical data"
      ]
    },
    {
      "cell_type": "code",
      "metadata": {
        "id": "0MLDBzV0peGN"
      },
      "source": [
        "#categorical data\n",
        "categorical_cols = ['Item_Fat_Content', 'Item_Type', 'Outlet_Identifier', 'Outlet_Size','Outlet_Location_Type'\n",
        ",'Outlet_Type'] \n",
        "#import pandas as pd\n",
        "X_TR = pd.get_dummies(X_TR, columns = categorical_cols)\n",
        "X_TE = pd.get_dummies(X_TE, columns = categorical_cols)"
      ],
      "execution_count": 5,
      "outputs": []
    },
    {
      "cell_type": "code",
      "metadata": {
        "id": "FOctzZZrV__c",
        "colab": {
          "base_uri": "https://localhost:8080/"
        },
        "outputId": "131ae84c-44d4-44cd-d08b-faea8739ce49"
      },
      "source": [
        "print(X_TR)\n",
        "print(X_TE.loc[:,'Item_Outlet_Sales'])\n",
        " "
      ],
      "execution_count": 13,
      "outputs": [
        {
          "output_type": "stream",
          "text": [
            "      Item_Weight  ...  Outlet_Type_Supermarket Type2\n",
            "0           9.300  ...                              0\n",
            "1           5.920  ...                              1\n",
            "2          17.500  ...                              0\n",
            "4           8.930  ...                              0\n",
            "5          10.395  ...                              1\n",
            "...           ...  ...                            ...\n",
            "8517       20.750  ...                              0\n",
            "8518        6.865  ...                              0\n",
            "8520       10.600  ...                              0\n",
            "8521        7.210  ...                              1\n",
            "8522       14.800  ...                              0\n",
            "\n",
            "[4650 rows x 39 columns]\n",
            "0       1636.244023\n",
            "5       1853.228827\n",
            "6        733.598282\n",
            "13      2041.953121\n",
            "14       867.471557\n",
            "           ...     \n",
            "5673    1623.910521\n",
            "5674     755.436127\n",
            "5675    1081.343324\n",
            "5676    2125.984810\n",
            "5677    2602.671833\n",
            "Name: Item_Outlet_Sales, Length: 3099, dtype: float64\n"
          ],
          "name": "stdout"
        }
      ]
    },
    {
      "cell_type": "markdown",
      "metadata": {
        "id": "WemVnqgeA70k"
      },
      "source": [
        "## Splitting the dataset into the Training set and Test set"
      ]
    },
    {
      "cell_type": "code",
      "metadata": {
        "id": "Kb_v_ae-A-20",
        "colab": {
          "base_uri": "https://localhost:8080/"
        },
        "outputId": "18c06a0a-4c4f-4128-bc38-cacbeb01c27f"
      },
      "source": [
        "X_train, X_test =X_TR.iloc[:,:],X_TE.iloc[:,:]\n",
        "y_train,y_test=X_TR.loc[:,\"Item_Outlet_Sales\"],X_TE.loc[:,\"Item_Outlet_Sales\"]\n",
        "X_train=X_train.drop('Item_Outlet_Sales',axis=1)\n",
        "X_test=X_test.drop('Item_Outlet_Sales',axis=1)\n",
        "print(X_test)\n",
        "#print(y_test)"
      ],
      "execution_count": 8,
      "outputs": [
        {
          "output_type": "stream",
          "text": [
            "      Item_Weight  ...  Outlet_Type_Supermarket Type2\n",
            "0          20.750  ...                              0\n",
            "5           9.800  ...                              0\n",
            "6          19.350  ...                              1\n",
            "13          4.785  ...                              0\n",
            "14         16.750  ...                              0\n",
            "...           ...  ...                            ...\n",
            "5673        7.070  ...                              1\n",
            "5674       15.700  ...                              0\n",
            "5675       13.000  ...                              0\n",
            "5676       10.500  ...                              0\n",
            "5677        7.600  ...                              1\n",
            "\n",
            "[3099 rows x 38 columns]\n"
          ],
          "name": "stdout"
        }
      ]
    },
    {
      "cell_type": "markdown",
      "metadata": {
        "id": "k-McZVsQBINc"
      },
      "source": [
        "## Training the Multiple Linear Regression model on the Training set"
      ]
    },
    {
      "cell_type": "code",
      "metadata": {
        "id": "ywPjx0L1BMiD",
        "colab": {
          "base_uri": "https://localhost:8080/"
        },
        "outputId": "ec5c9c2f-66ad-4643-dd47-e3499634e7ed"
      },
      "source": [
        "from sklearn.linear_model import LinearRegression\n",
        "regressor = LinearRegression()\n",
        "regressor.fit(X_train, y_train)"
      ],
      "execution_count": 9,
      "outputs": [
        {
          "output_type": "execute_result",
          "data": {
            "text/plain": [
              "LinearRegression(copy_X=True, fit_intercept=True, n_jobs=None, normalize=False)"
            ]
          },
          "metadata": {
            "tags": []
          },
          "execution_count": 9
        }
      ]
    },
    {
      "cell_type": "markdown",
      "metadata": {
        "id": "xNkXL1YQBiBT"
      },
      "source": [
        "## Predicting the Test set results"
      ]
    },
    {
      "cell_type": "code",
      "metadata": {
        "id": "TQKmwvtdBkyb",
        "colab": {
          "base_uri": "https://localhost:8080/"
        },
        "outputId": "892ae8af-8935-4ac6-8ef1-737b7f38dc42"
      },
      "source": [
        "y_pred = regressor.predict(X_test)\n",
        "np.set_printoptions(precision=2)\n",
        "print(y_pred)\n",
        "print(y_test)"
      ],
      "execution_count": 10,
      "outputs": [
        {
          "output_type": "stream",
          "text": [
            "[1816.28 1875.22  515.45 ... 1123.12 2315.5  2515.44]\n",
            "0       1636.244023\n",
            "5       1853.228827\n",
            "6        733.598282\n",
            "13      2041.953121\n",
            "14       867.471557\n",
            "           ...     \n",
            "5673    1623.910521\n",
            "5674     755.436127\n",
            "5675    1081.343324\n",
            "5676    2125.984810\n",
            "5677    2602.671833\n",
            "Name: Item_Outlet_Sales, Length: 3099, dtype: float64\n"
          ],
          "name": "stdout"
        }
      ]
    },
    {
      "cell_type": "markdown",
      "metadata": {
        "id": "50DZZy0UyhLi"
      },
      "source": [
        "## Evaluating the Model Performance"
      ]
    },
    {
      "cell_type": "code",
      "metadata": {
        "id": "xPagAOKDywV4",
        "colab": {
          "base_uri": "https://localhost:8080/"
        },
        "outputId": "dcfb57d4-a2b6-4a13-c6ce-cb8f5dedfd41"
      },
      "source": [
        "from sklearn.metrics import r2_score\n",
        "r2_score(y_test, y_pred)"
      ],
      "execution_count": 11,
      "outputs": [
        {
          "output_type": "execute_result",
          "data": {
            "text/plain": [
              "0.9785783879311727"
            ]
          },
          "metadata": {
            "tags": []
          },
          "execution_count": 11
        }
      ]
    }
  ]
}